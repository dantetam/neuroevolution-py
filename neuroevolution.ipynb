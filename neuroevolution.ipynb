{
 "cells": [
  {
   "cell_type": "code",
   "execution_count": 1,
   "metadata": {
    "collapsed": true
   },
   "outputs": [],
   "source": [
    "import numpy as np\n",
    "#import scipy.misc\n",
    "#import matplotlib\n",
    "#import matplotlib.pyplot as plt\n",
    "#%matplotlib inline\n",
    "\n",
    "import math\n",
    "\n",
    "from random import shuffle"
   ]
  },
  {
   "cell_type": "code",
   "execution_count": 4,
   "metadata": {},
   "outputs": [
    {
     "data": {
      "text/plain": [
       "[3, 2, 5, 1, 4]"
      ]
     },
     "execution_count": 4,
     "metadata": {},
     "output_type": "execute_result"
    }
   ],
   "source": [
    "X = [1,2,3,4,5]\n",
    "shuffle(X)\n",
    "X"
   ]
  },
  {
   "cell_type": "code",
   "execution_count": 7,
   "metadata": {},
   "outputs": [
    {
     "ename": "SyntaxError",
     "evalue": "invalid syntax (<ipython-input-7-2b4a385838fb>, line 75)",
     "output_type": "error",
     "traceback": [
      "\u001b[1;36m  File \u001b[1;32m\"<ipython-input-7-2b4a385838fb>\"\u001b[1;36m, line \u001b[1;32m75\u001b[0m\n\u001b[1;33m    availablePairs = [(availableIds[i], availableIds[j]) if i != j for i in range(availableIds) for j in range(availableIds) ]\u001b[0m\n\u001b[1;37m                                                                     ^\u001b[0m\n\u001b[1;31mSyntaxError\u001b[0m\u001b[1;31m:\u001b[0m invalid syntax\n"
     ]
    }
   ],
   "source": [
    "numNetworks = 100\n",
    "numNodesPerNetwork = 100\n",
    "inputFeatures = 10\n",
    "outputFeatures = 5\n",
    "\n",
    "globalInnovationNumber = 0\n",
    "\n",
    "assert inputFeatures < numNodesPerNetwork\n",
    "assert outputFeatures < numNodesPerNetwork\n",
    "\n",
    "class Node:\n",
    "    \n",
    "    \"\"\"\n",
    "    This represents a neural network node with an integer label nodeId, \n",
    "    and a special type, one of [\"input\", \"output\", \"hidden\"]\n",
    "    \"\"\"\n",
    "    def __init__(self, nodeId, nodeType):\n",
    "        self.nodeId = nodeId\n",
    "        assert nodeType == \"input\" or nodeType == \"output\" or nodeType == \"hidden\"\n",
    "        self.nodeType = nodeType\n",
    "        \n",
    "class Edge:\n",
    "    \n",
    "    \"\"\"\n",
    "    This class represent a connection (axon) in a neuroevolution network with its data.\n",
    "    nodeIn and nodeOut are the ids of the input and output nodes,\n",
    "    enabled is a boolean representing its ability to propogate into future neural networks,\n",
    "    innovId is the labeled innovation number which corresponds to the same edge in other NNs,\n",
    "    and weight is the normal edge weight.\n",
    "    \"\"\"\n",
    "    def __init__(self, nodeIn, nodeOut, enabled, innovId, weight):\n",
    "        self.nodeIn = nodeIn\n",
    "        self.nodeOut = nodeOut\n",
    "        self.enabled = enabled\n",
    "        self.innovId = innovId\n",
    "        self.weight = weight\n",
    "    \n",
    "class NeuroevolutionNetwork:\n",
    "    \n",
    "    # self.nodes is a dictionary indexed by (node id -> node object)\n",
    "    # self.edges is indexed by (in node id -> edge object, from in node to out node)\n",
    "    def __init__(self, numNodes, numInput, numOutput):\n",
    "        self.nodes = dict() \n",
    "        self.edges = dict()\n",
    "        self.listEdges = []\n",
    "        self.numNodesCounter = 0\n",
    "        \n",
    "    def addNode(nodeType):\n",
    "        nodeId = self.numNodesCounter\n",
    "        self.nodes.append(Node(nodeId, nodeType))\n",
    "        self.numNodesCounter += 1\n",
    "        return nodeId\n",
    "        \n",
    "    def hasNode(nodeId):\n",
    "        return nodeId in self.nodes\n",
    "        \n",
    "    # Return true if a connection exists between nodes with these ids,\n",
    "    # a connection from in -> out\n",
    "    def isConnected(nodeInId, nodeOutId):    \n",
    "        \"\"\"if hasNode(nodeInId) and hasNode(nodeOutId):\n",
    "            if nodeInId in self.edges:\n",
    "                connectionsOut = self.edges[nodeInId]\n",
    "                for nodeOut in connectionsOut:\n",
    "                    if nodeOut.nodeId == nodeOutId:\n",
    "                        return True\n",
    "        return False\"\"\"\n",
    "        return (nodeInId, nodeOutId) in listEdges\n",
    "    \n",
    "    # Return true if there is a valid connection from in -> out\n",
    "    # Invariant to whether or not the nodes are connected or not\n",
    "    def allowedConnection(nodeInId, nodeOutId):\n",
    "        if hasNode(nodeInId) and hasNode(nodeOutId):\n",
    "            inNode = self.nodes[nodeInId]\n",
    "            outNode = self.nodes[nodeOutId]\n",
    "            doubleInput = inNode.nodeType == \"input\" and outNode.nodeType == \"output\"\n",
    "            doubleOutput = inNode.nodeType == \"input\" and outNode.nodeType == \"output\"\n",
    "            return not doubleInput and not doubleOutput\n",
    "        else:\n",
    "            return False\n",
    "        \n",
    "    def mutateAddConnection():\n",
    "        assert len(self.nodes) >= 2\n",
    "        availableIds = [node.nodeId for node in self.nodes]\n",
    "        availablePairs = [(availableIds[i], availableIds[j]) for i in range(availableIds) for j in range(availableIds) ]\n",
    "        while True: # Find two nodes that have no connection\n",
    "            if len(availablePairs) == 0:\n",
    "                return\n",
    "            shuffle(availablePairs)\n",
    "            pair = availablePairs.pop()\n",
    "            if pair[0] == pair[1]:\n",
    "                continue\n",
    "            if allowedConnection(pair[0], pair[1]) and not isConnected(pair[0], pair[1]):\n",
    "                newEdge = Edge(pair[0], pair[1], True, globalInnovationNumber, 0.5)\n",
    "                self.listEdges.append(tuple(pair))\n",
    "                globalInnovationNumber += 1\n",
    "                self.edges[pair[0]].append(newEdge)\n",
    "                return\n",
    "           \n",
    "    def removeEdge(nodeInId, nodeOutId):\n",
    "        self.listEdges.remove((nodeInId, nodeOutId))\n",
    "        \n",
    "        # Look for the correct node within the outgoing connections\n",
    "        for nodeOutIndex in range(len(self.edges[nodeInId])):\n",
    "            nodeOut = self.edges[nodeInId][nodeOutIndex]\n",
    "            if nodeOut.nodeId == nodeOutId:\n",
    "                self.edges[nodeInId].pop(nodeOutIndex)\n",
    "                return    \n",
    "        \n",
    "    def mutateSplitEdge():\n",
    "        # Find a random edge to mutate, assuming one exists\n",
    "        assert len(self.edges) > 0\n",
    "        randomEdgeIndex = int(len(self.listEdges) * random.random())\n",
    "        oldEdge = tuple(self.listEdges[randomEdgeIndex])\n",
    "        nodeInId, nodeOutId = oldEdge[0], oldEdge[1]\n",
    "        \n",
    "        removeEdge(nodeInId, nodeOutId)\n",
    "        \n",
    "        newMiddleNode = self.addNode(\"hidden\")\n",
    "        \n",
    "        newEdge1 = Edge(nodeInId, newMiddleNode, True, globalInnovationNumber, 0.5)\n",
    "        self.listEdges.append(tuple(pair))\n",
    "        globalInnovationNumber += 1\n",
    "        self.edges[nodeInId].append(newEdge1)\n",
    "        \n",
    "        newEdge2 = Edge(newMiddleNode, nodeOutId, True, globalInnovationNumber, 0.5)\n",
    "        self.listEdges.append(tuple(pair))\n",
    "        globalInnovationNumber += 1\n",
    "        self.edges[newMiddleNode].append(newEdge2)"
   ]
  },
  {
   "cell_type": "code",
   "execution_count": null,
   "metadata": {
    "collapsed": true
   },
   "outputs": [],
   "source": []
  }
 ],
 "metadata": {
  "kernelspec": {
   "display_name": "Python 3",
   "language": "python",
   "name": "python3"
  },
  "language_info": {
   "codemirror_mode": {
    "name": "ipython",
    "version": 3
   },
   "file_extension": ".py",
   "mimetype": "text/x-python",
   "name": "python",
   "nbconvert_exporter": "python",
   "pygments_lexer": "ipython3",
   "version": "3.6.3"
  }
 },
 "nbformat": 4,
 "nbformat_minor": 2
}
